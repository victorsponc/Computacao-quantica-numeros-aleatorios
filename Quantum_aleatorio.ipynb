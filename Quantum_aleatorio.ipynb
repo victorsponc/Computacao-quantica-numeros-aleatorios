{
 "cells": [
  {
   "cell_type": "markdown",
   "metadata": {},
   "source": [
    "# Aleatório Quântum V"
   ]
  },
  {
   "cell_type": "code",
   "execution_count": 1,
   "metadata": {},
   "outputs": [],
   "source": [
    "from qiskit import *"
   ]
  },
  {
   "cell_type": "code",
   "execution_count": 53,
   "metadata": {},
   "outputs": [],
   "source": [
    "def Aleatorio(maximo):\n",
    "\n",
    "    while True:\n",
    "        circuit = QuantumCircuit(len(bin(maximo)[2:]), len(bin(maximo)[2:]))\n",
    "        circuit.h(range(len(bin(maximo)[2:])))\n",
    "\n",
    "        for j in range(len(bin(maximo)[2:])):\n",
    "            circuit.measure([j], [j])\n",
    "\n",
    "        backend = Aer.get_backend('qasm_simulator')\n",
    "        job = execute(circuit, backend, shots=1)\n",
    "\n",
    "        result = job.result().get_counts()\n",
    "        result\n",
    "\n",
    "        res = int(\"\".join(str(int(x)) for x in result), 2)\n",
    "        \n",
    "        if res < maximo:\n",
    "            return \"O número aleatório até \" +str(maximo)+\" é \" + str(res)"
   ]
  },
  {
   "cell_type": "code",
   "execution_count": 55,
   "metadata": {},
   "outputs": [
    {
     "data": {
      "text/plain": [
       "'O número aleatório até 500 é 60'"
      ]
     },
     "execution_count": 55,
     "metadata": {},
     "output_type": "execute_result"
    }
   ],
   "source": [
    "Aleatorio(500)"
   ]
  },
  {
   "cell_type": "code",
   "execution_count": null,
   "metadata": {},
   "outputs": [],
   "source": []
  }
 ],
 "metadata": {
  "kernelspec": {
   "display_name": "Python 3",
   "language": "python",
   "name": "python3"
  },
  "language_info": {
   "codemirror_mode": {
    "name": "ipython",
    "version": 3
   },
   "file_extension": ".py",
   "mimetype": "text/x-python",
   "name": "python",
   "nbconvert_exporter": "python",
   "pygments_lexer": "ipython3",
   "version": "3.8.5"
  }
 },
 "nbformat": 4,
 "nbformat_minor": 4
}
