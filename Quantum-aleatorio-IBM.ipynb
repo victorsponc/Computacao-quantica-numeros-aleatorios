{
 "cells": [
  {
   "cell_type": "markdown",
   "metadata": {},
   "source": [
    "# Aleatório Quântum V"
   ]
  },
  {
   "cell_type": "code",
   "execution_count": 2,
   "metadata": {},
   "outputs": [],
   "source": [
    "from qiskit import *\n",
    "from qiskit.tools.monitor import job_monitor"
   ]
  },
  {
   "cell_type": "code",
   "execution_count": 3,
   "metadata": {},
   "outputs": [],
   "source": [
    "def Aleatorio(maximo):\n",
    "\n",
    "    while True:\n",
    "        circuit = QuantumCircuit(len(bin(maximo)[2:]), len(bin(maximo)[2:]))\n",
    "        circuit.h(range(len(bin(maximo)[2:])))\n",
    "\n",
    "        for j in range(len(bin(maximo)[2:])):\n",
    "            circuit.measure([j], [j])\n",
    "            \n",
    "        IBMQ.load_account()\n",
    "        provider = IBMQ.get_provider('ibm-q')\n",
    "        comput = provider.get_backend('ibmq_16_melbourne')\n",
    "        job = execute(circuit, backend = comput, shots = 1)\n",
    "        job_monitor(job)\n",
    "        resultq = job.result().get_counts()\n",
    "        \n",
    "        res = int(\"\".join(str(int(x)) for x in resultq), 2)\n",
    "        \n",
    "        if res < maximo:\n",
    "            return res"
   ]
  },
  {
   "cell_type": "code",
   "execution_count": 4,
   "metadata": {},
   "outputs": [
    {
     "name": "stderr",
     "output_type": "stream",
     "text": [
      "C:\\Users\\victo\\anaconda3\\lib\\site-packages\\qiskit\\providers\\ibmq\\ibmqfactory.py:192: UserWarning: Timestamps in IBMQ backend properties, jobs, and job results are all now in local time instead of UTC.\n",
      "  warnings.warn('Timestamps in IBMQ backend properties, jobs, and job results '\n"
     ]
    },
    {
     "name": "stdout",
     "output_type": "stream",
     "text": [
      "Job Status: job has successfully run\n"
     ]
    },
    {
     "data": {
      "text/plain": [
       "'O número aleatório até 1000 é 43'"
      ]
     },
     "execution_count": 4,
     "metadata": {},
     "output_type": "execute_result"
    }
   ],
   "source": [
    "Aleatorio(1000)"
   ]
  },
  {
   "cell_type": "code",
   "execution_count": null,
   "metadata": {},
   "outputs": [],
   "source": []
  }
 ],
 "metadata": {
  "kernelspec": {
   "display_name": "Python 3",
   "language": "python",
   "name": "python3"
  },
  "language_info": {
   "codemirror_mode": {
    "name": "ipython",
    "version": 3
   },
   "file_extension": ".py",
   "mimetype": "text/x-python",
   "name": "python",
   "nbconvert_exporter": "python",
   "pygments_lexer": "ipython3",
   "version": "3.8.5"
  }
 },
 "nbformat": 4,
 "nbformat_minor": 4
}
